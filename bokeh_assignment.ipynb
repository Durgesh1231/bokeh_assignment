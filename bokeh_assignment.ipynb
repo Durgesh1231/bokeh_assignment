{
  "nbformat": 4,
  "nbformat_minor": 0,
  "metadata": {
    "colab": {
      "provenance": []
    },
    "kernelspec": {
      "name": "python3",
      "display_name": "Python 3"
    },
    "language_info": {
      "name": "python"
    }
  },
  "cells": [
    {
      "cell_type": "code",
      "execution_count": null,
      "metadata": {
        "id": "q9B_EK4Me9ix"
      },
      "outputs": [],
      "source": [
        "# 1\n",
        "\"\"\"\n",
        "To create a Bokeh plot, you can use the following steps:\n",
        "1. Import necessary modules from Bokeh.\n",
        "2. Create a figure object using `figure()`.\n",
        "3. Add glyphs (such as lines, circles, etc.) using methods like `circle()`, `line()`, etc.\n",
        "4. Show the plot using `show()` function.\n",
        "\n",
        "Example:\n",
        "from bokeh.plotting import figure, show\n",
        "p = figure(title=\"Simple Bokeh Plot\", x_axis_label='X', y_axis_label='Y')\n",
        "p.line([1, 2, 3], [4, 5, 6], line_width=2)\n",
        "show(p)\n",
        "\"\"\"\n",
        "\n",
        "# 2\n",
        "\"\"\"\n",
        "Glyphs in Bokeh are visual shapes or marks (like circles, lines, rectangles) used to represent data.\n",
        "To add a glyph to a Bokeh plot, you use methods like `circle()`, `line()`, etc., after creating a figure.\n",
        "\n",
        "Example:\n",
        "from bokeh.plotting import figure, show\n",
        "p = figure(title=\"Scatter Plot\", x_axis_label='X', y_axis_label='Y')\n",
        "p.circle([1, 2, 3], [4, 5, 6], size=10, color=\"blue\", alpha=0.5)\n",
        "show(p)\n",
        "\"\"\"\n",
        "\n",
        "# 3\n",
        "\"\"\"\n",
        "To customize the appearance of a Bokeh plot:\n",
        "1. Title: Use `p.title.text` to set the plot title.\n",
        "2. Axes: Use `p.xaxis.axis_label` and `p.yaxis.axis_label` to set axis labels.\n",
        "3. Legend: Use `p.legend.location` to change the position of the legend.\n",
        "\n",
        "Example:\n",
        "p.title.text = 'Customized Plot'\n",
        "p.xaxis.axis_label = 'Custom X Label'\n",
        "p.yaxis.axis_label = 'Custom Y Label'\n",
        "p.legend.location = \"top_left\"\n",
        "\"\"\"\n",
        "\n",
        "# 4\n",
        "\"\"\"\n",
        "A Bokeh server allows you to create interactive plots that can be updated in real-time.\n",
        "You can use the `curdoc()` function to add plots and widgets to the server. Use the `on_change` method to update plots dynamically.\n",
        "\n",
        "Example:\n",
        "from bokeh.plotting import figure, curdoc\n",
        "from bokeh.models import ColumnDataSource\n",
        "source = ColumnDataSource(data=dict(x=[1, 2, 3], y=[4, 5, 6]))\n",
        "p = figure()\n",
        "p.line('x', 'y', source=source)\n",
        "curdoc().add_root(p)\n",
        "\"\"\"\n",
        "\n",
        "# 5\n",
        "\"\"\"\n",
        "To embed a Bokeh plot in a web page or dashboard with Flask or Django:\n",
        "1. Save the plot to an HTML file using `output_file()`.\n",
        "2. Use Flask or Django to render the plot within a webpage.\n",
        "3. In Flask, you can use `render_template()` to serve the HTML file.\n",
        "4. In Django, use Django templates to integrate the HTML file into a view.\n",
        "\n",
        "Example (Flask):\n",
        "from bokeh.plotting import figure, output_file, save\n",
        "output_file(\"plot.html\")\n",
        "p = figure()\n",
        "p.circle([1, 2, 3], [4, 5, 6], size=10)\n",
        "save(p)\n",
        "\"\"\"\n"
      ]
    }
  ]
}